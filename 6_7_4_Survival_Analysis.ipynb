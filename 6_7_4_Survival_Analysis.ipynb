{
  "nbformat": 4,
  "nbformat_minor": 0,
  "metadata": {
    "colab": {
      "name": "6.7.4 Survival Analysis.ipynb",
      "version": "0.3.2",
      "provenance": []
    },
    "language_info": {
      "codemirror_mode": {
        "name": "ipython",
        "version": 3
      },
      "file_extension": ".py",
      "mimetype": "text/x-python",
      "name": "python",
      "nbconvert_exporter": "python",
      "pygments_lexer": "ipython3",
      "version": "3.7.1"
    },
    "kernelspec": {
      "display_name": "Python 3",
      "language": "python",
      "name": "python3"
    }
  },
  "cells": [
    {
      "cell_type": "code",
      "metadata": {
        "id": "ZxVDLk05Gis8",
        "colab_type": "code",
        "colab": {}
      },
      "source": [
        "import numpy as np\n",
        "import pandas as pd\n",
        "import matplotlib.pyplot as plt\n",
        "import seaborn as sns\n",
        "%matplotlib inline"
      ],
      "execution_count": 0,
      "outputs": []
    },
    {
      "cell_type": "markdown",
      "metadata": {
        "id": "nvEpVGjqGitC",
        "colab_type": "text"
      },
      "source": [
        "We'll be doing a classic survival analysis model, using Cox PH to look at sex differences in time to death (aka. longevity) using data from the [U.S.  National Health Interview Survey](https://ihis.ipums.org/).  This data is particularly great because they have both year of birth and year of death.  Death records stop in 2009 (when the dataset was considered complete), so any people who are still living in 2009 will need to be right-censored.\n",
        "\n",
        "Some people do not have date of birth.  Those cases will be truncated.  \n",
        "\n",
        "Let's start by loading the data, taking a look at it, and cleaning it up:"
      ]
    },
    {
      "cell_type": "code",
      "metadata": {
        "id": "yS_MSlfpGitD",
        "colab_type": "code",
        "outputId": "79c416dc-c241-44a1-be0f-21ec48aaa09c",
        "colab": {
          "base_uri": "https://localhost:8080/",
          "height": 167
        }
      },
      "source": [
        "import pandas as pd\n",
        "import matplotlib.pyplot as plt\n",
        "\n",
        "data = pd.read_csv(\"https://tf-assets-prod.s3.amazonaws.com/tf-curric/data-science/nhis.csv\")\n",
        "print(data.head())\n",
        "print(data.shape)\n"
      ],
      "execution_count": 2,
      "outputs": [
        {
          "output_type": "stream",
          "text": [
            "   Unnamed: 0  YEAR           NHISPID  ...  BIRTHYR  MORTSTAT  MORTDODY\n",
            "0     2744230  1986  1986109602890101  ...      NaN       1.0    2005.0\n",
            "1     2744231  1986  1986109602890102  ...      NaN       1.0    2010.0\n",
            "2     2744232  1986  1986109602890103  ...      NaN       2.0    9999.0\n",
            "3     2744233  1986  1986109602890201  ...      NaN       2.0    9999.0\n",
            "4     2744234  1986  1986109602890202  ...      NaN       2.0    9999.0\n",
            "\n",
            "[5 rows x 10 columns]\n",
            "(1605246, 10)\n"
          ],
          "name": "stdout"
        }
      ]
    },
    {
      "cell_type": "code",
      "metadata": {
        "scrolled": true,
        "id": "DIWt3TLEGitL",
        "colab_type": "code",
        "outputId": "bbb52911-d56d-4ded-f301-bca11ac95f87",
        "colab": {
          "base_uri": "https://localhost:8080/",
          "height": 991
        }
      },
      "source": [
        "\n",
        "# Dropping cases where birth year is not known\n",
        "data2 =data[(data[\"BIRTHYR\"]<=2009) & (data[\"BIRTHYR\"].notnull())]\n",
        "\n",
        "# Calculating time-to-event\n",
        "data2[\"Longevity\"]= data2[\"MORTDODY\"] - data2[\"BIRTHYR\"]\n",
        "\n",
        "# Creating a 'status' variable where 1 means dead and 0 means alive as of 2009\n",
        "data2[\"dead\"]=2-data2['MORTSTAT']\n",
        "\n",
        "# For people who were alive as of 2009, calculating their longevity as their age in 2009\n",
        "data2.loc[data2['dead']==0,\"Longevity\"] = 2009 -data2.loc[data2['dead']==0,\"BIRTHYR\"] \n",
        "\n",
        "# Creating a binary variable where 1 = female and 0 = male\n",
        "data2[\"female\"] = (data2[\"SEX\"] == 2).astype(int)\n",
        "\n",
        "\n",
        "print(data2.head())\n",
        "print(data2.shape)\n",
        "\n",
        "g = sns.FacetGrid(data2, row=\"female\", col=\"dead\",margin_titles=True)\n",
        "g.map(plt.hist, \"Longevity\", color=\"steelblue\", lw=0)\n",
        "plt.show()"
      ],
      "execution_count": 3,
      "outputs": [
        {
          "output_type": "stream",
          "text": [
            "/usr/local/lib/python3.6/dist-packages/ipykernel_launcher.py:4: SettingWithCopyWarning: \n",
            "A value is trying to be set on a copy of a slice from a DataFrame.\n",
            "Try using .loc[row_indexer,col_indexer] = value instead\n",
            "\n",
            "See the caveats in the documentation: http://pandas.pydata.org/pandas-docs/stable/indexing.html#indexing-view-versus-copy\n",
            "  after removing the cwd from sys.path.\n",
            "/usr/local/lib/python3.6/dist-packages/ipykernel_launcher.py:7: SettingWithCopyWarning: \n",
            "A value is trying to be set on a copy of a slice from a DataFrame.\n",
            "Try using .loc[row_indexer,col_indexer] = value instead\n",
            "\n",
            "See the caveats in the documentation: http://pandas.pydata.org/pandas-docs/stable/indexing.html#indexing-view-versus-copy\n",
            "  import sys\n",
            "/usr/local/lib/python3.6/dist-packages/pandas/core/indexing.py:543: SettingWithCopyWarning: \n",
            "A value is trying to be set on a copy of a slice from a DataFrame.\n",
            "Try using .loc[row_indexer,col_indexer] = value instead\n",
            "\n",
            "See the caveats in the documentation: http://pandas.pydata.org/pandas-docs/stable/indexing.html#indexing-view-versus-copy\n",
            "  self.obj[item] = s\n",
            "/usr/local/lib/python3.6/dist-packages/ipykernel_launcher.py:13: SettingWithCopyWarning: \n",
            "A value is trying to be set on a copy of a slice from a DataFrame.\n",
            "Try using .loc[row_indexer,col_indexer] = value instead\n",
            "\n",
            "See the caveats in the documentation: http://pandas.pydata.org/pandas-docs/stable/indexing.html#indexing-view-versus-copy\n",
            "  del sys.path[0]\n"
          ],
          "name": "stderr"
        },
        {
          "output_type": "stream",
          "text": [
            "        Unnamed: 0  YEAR         NHISPID  ...  Longevity  dead  female\n",
            "829402     3928174  1997  19970003080101  ...       46.0   0.0       1\n",
            "829403     3928175  1997  19970003080102  ...       49.0   0.0       0\n",
            "829404     3928178  1997  19970003090101  ...       45.0   1.0       0\n",
            "829405     3928179  1997  19970003090102  ...       65.0   0.0       1\n",
            "829407     3928182  1997  19970003100101  ...       54.0   0.0       0\n",
            "\n",
            "[5 rows x 13 columns]\n",
            "(754219, 13)\n"
          ],
          "name": "stdout"
        },
        {
          "output_type": "display_data",
          "data": {
            "image/png": "[encoded data removed]",
            "text/plain": [
              "<Figure size 432x432 with 4 Axes>"
            ]
          },
          "metadata": {
            "tags": []
          }
        }
      ]
    },
    {
      "cell_type": "markdown",
      "metadata": {
        "id": "1SwcorCNGitQ",
        "colab_type": "text"
      },
      "source": [
        "# The first look\n",
        "\n",
        "After data cleaning, we've gone from 1605246 records to 1305561.  The vast majority of our sample was still living as of 2009.  This means most of our data will be right-censored.\n",
        "\n",
        "Now we're going to use the `statsmodels` survival analysis functions to create some models for our data.  First, we can calculate the Hazard (risk of death) for each age, starting at the youngest people in the sample (18 years old in 2009). "
      ]
    },
    {
      "cell_type": "code",
      "metadata": {
        "id": "yYmg8NRWGitR",
        "colab_type": "code",
        "outputId": "bcf0b043-2c36-4111-93d8-4d831bfe9628",
        "colab": {
          "base_uri": "https://localhost:8080/",
          "height": 361
        }
      },
      "source": [
        "!pip install factorial\n",
        "\n",
        "import statsmodels.api as sm\n",
        "import statsmodels.formula.api as smf\n",
        "\n",
        "sf = sm.SurvfuncRight(data2[\"Longevity\"], data2[\"dead\"])\n",
        "sf.summary().head()"
      ],
      "execution_count": 4,
      "outputs": [
        {
          "output_type": "stream",
          "text": [
            "Collecting factorial\n",
            "  Downloading https://files.pythonhosted.org/packages/e5/a1/0c0af33cdedc4040275b08561bfce4ad1725d1ca2e1736f276d84dde5e67/factorial-1.0.0.zip\n",
            "Building wheels for collected packages: factorial\n",
            "  Building wheel for factorial (setup.py) ... \u001b[?25l\u001b[?25hdone\n",
            "  Stored in directory: /root/.cache/pip/wheels/e8/ae/70/7034a60968a316b9ee5ec45245af4e29e7d0e2c9cfaf3a7b3b\n",
            "Successfully built factorial\n",
            "Installing collected packages: factorial\n",
            "Successfully installed factorial-1.0.0\n"
          ],
          "name": "stdout"
        },
        {
          "output_type": "execute_result",
          "data": {
            "text/html": [
              "<div>\n",
              "<style scoped>\n",
              "    .dataframe tbody tr th:only-of-type {\n",
              "        vertical-align: middle;\n",
              "    }\n",
              "\n",
              "    .dataframe tbody tr th {\n",
              "        vertical-align: top;\n",
              "    }\n",
              "\n",
              "    .dataframe thead th {\n",
              "        text-align: right;\n",
              "    }\n",
              "</style>\n",
              "<table border=\"1\" class=\"dataframe\">\n",
              "  <thead>\n",
              "    <tr style=\"text-align: right;\">\n",
              "      <th></th>\n",
              "      <th>Surv prob</th>\n",
              "      <th>Surv prob SE</th>\n",
              "      <th>num at risk</th>\n",
              "      <th>num events</th>\n",
              "    </tr>\n",
              "    <tr>\n",
              "      <th>Time</th>\n",
              "      <th></th>\n",
              "      <th></th>\n",
              "      <th></th>\n",
              "      <th></th>\n",
              "    </tr>\n",
              "  </thead>\n",
              "  <tbody>\n",
              "    <tr>\n",
              "      <th>18.0</th>\n",
              "      <td>0.999997</td>\n",
              "      <td>0.000002</td>\n",
              "      <td>754217</td>\n",
              "      <td>2.0</td>\n",
              "    </tr>\n",
              "    <tr>\n",
              "      <th>19.0</th>\n",
              "      <td>0.999981</td>\n",
              "      <td>0.000005</td>\n",
              "      <td>753439</td>\n",
              "      <td>12.0</td>\n",
              "    </tr>\n",
              "    <tr>\n",
              "      <th>20.0</th>\n",
              "      <td>0.999940</td>\n",
              "      <td>0.000009</td>\n",
              "      <td>751911</td>\n",
              "      <td>31.0</td>\n",
              "    </tr>\n",
              "    <tr>\n",
              "      <th>21.0</th>\n",
              "      <td>0.999879</td>\n",
              "      <td>0.000013</td>\n",
              "      <td>749414</td>\n",
              "      <td>46.0</td>\n",
              "    </tr>\n",
              "    <tr>\n",
              "      <th>22.0</th>\n",
              "      <td>0.999825</td>\n",
              "      <td>0.000015</td>\n",
              "      <td>746169</td>\n",
              "      <td>40.0</td>\n",
              "    </tr>\n",
              "  </tbody>\n",
              "</table>\n",
              "</div>"
            ],
            "text/plain": [
              "      Surv prob  Surv prob SE  num at risk  num events\n",
              "Time                                                  \n",
              "18.0   0.999997      0.000002       754217         2.0\n",
              "19.0   0.999981      0.000005       753439        12.0\n",
              "20.0   0.999940      0.000009       751911        31.0\n",
              "21.0   0.999879      0.000013       749414        46.0\n",
              "22.0   0.999825      0.000015       746169        40.0"
            ]
          },
          "metadata": {
            "tags": []
          },
          "execution_count": 4
        }
      ]
    },
    {
      "cell_type": "markdown",
      "metadata": {
        "id": "_JXtmhW8GitU",
        "colab_type": "text"
      },
      "source": [
        "You can notice a few things in the survival table: \n",
        "* First, only 2 people in the sample died at the age of 18, with the number of deaths increasing after that.\n",
        "* Second, the standard error steadily gets larger as the sample size (the number at risk, aka. the number of people alive at that timepoint) shrinks.  \n",
        "* Finally, the 'number at risk' drops at each timepoint, but by quite a bit more than the number of deaths.  This reflects our right-censoring.  If someone turned 18 in 2009 and didn't die, they don't count toward the 'number at risk' at age 19 because they're out of the observation window, but they also aren't an event at timepoint 18 because they were still alive at that age.\n",
        "\n",
        "We can also make a very nice survival plot for the men and the women:"
      ]
    },
    {
      "cell_type": "code",
      "metadata": {
        "id": "sbFybrN8GitV",
        "colab_type": "code",
        "outputId": "43525120-9e5d-4631-acdc-e6255cdc8e9e",
        "colab": {
          "base_uri": "https://localhost:8080/",
          "height": 299
        }
      },
      "source": [
        "# Code for this plot modified from the statsmodels documentation at http://www.statsmodels.org/dev/duration.html\n",
        "\n",
        "groups = data2.groupby(\"female\")\n",
        "ax = plt.axes()\n",
        "sexes = [\"male\",\"female\"]\n",
        "# Fitting a survival function for each group\n",
        "for group in groups:\n",
        "    sf = sm.SurvfuncRight(group[1][\"Longevity\"], group[1][\"dead\"])\n",
        "    sf.plot(ax)\n",
        "li = ax.get_lines()\n",
        "plt.figlegend((li[0], li[2]), sexes, \"center right\")\n",
        "ax.set_ylabel(\"Proportion alive\")\n",
        "ax.set_xlabel(\"Age\")\n",
        "ax.set_autoscaley_on(False)\n",
        "ax.set_ylim([.85,1])\n",
        "\n"
      ],
      "execution_count": 5,
      "outputs": [
        {
          "output_type": "execute_result",
          "data": {
            "text/plain": [
              "(0.85, 1)"
            ]
          },
          "metadata": {
            "tags": []
          },
          "execution_count": 5
        },
        {
          "output_type": "display_data",
          "data": {
            "image/png": "[encoded data removed]",
            "text/plain": [
              "<Figure size 432x288 with 1 Axes>"
            ]
          },
          "metadata": {
            "tags": []
          }
        }
      ]
    },
    {
      "cell_type": "markdown",
      "metadata": {
        "id": "bbrQQz7gGitZ",
        "colab_type": "text"
      },
      "source": [
        "Most people are still alive, but this may be due to extreme right-censoring.  \n",
        "\n",
        "# Cox PH for gender\n",
        "\n",
        "A graph is all very well, but is the difference in longevity for men and women meaningful?  We can test using the Cox PH model."
      ]
    },
    {
      "cell_type": "code",
      "metadata": {
        "id": "UFF-F1vhGita",
        "colab_type": "code",
        "colab": {
          "base_uri": "https://localhost:8080/",
          "height": 200
        },
        "outputId": "6f3c2ec6-26f0-4775-f054-0f6be7347c92"
      },
      "source": [
        "mod = smf.phreg(\"Longevity ~  female\", # The model\n",
        "                data2, # The data\n",
        "                status=data2['dead'].values # Whether values are right-censored\n",
        "                ) \n",
        "rslt = mod.fit()\n",
        "print(rslt.summary())"
      ],
      "execution_count": 6,
      "outputs": [
        {
          "output_type": "stream",
          "text": [
            "                       Results: PHReg\n",
            "=============================================================\n",
            "Model:                  PH Reg        Sample size:     754217\n",
            "Dependent variable:     Longevity     Num. events:     67383 \n",
            "Ties:                   Breslow                              \n",
            "-------------------------------------------------------------\n",
            "        log HR log HR SE   HR      t     P>|t|  [0.025 0.975]\n",
            "-------------------------------------------------------------\n",
            "female -0.4460    0.0078 0.6402 -57.5296 0.0000 0.6306 0.6500\n",
            "=============================================================\n",
            "Confidence intervals are for the hazard ratios\n"
          ],
          "name": "stdout"
        }
      ]
    },
    {
      "cell_type": "markdown",
      "metadata": {
        "collapsed": true,
        "id": "SKxsll7YGitd",
        "colab_type": "text"
      },
      "source": [
        "It looks like the difference is meaningful.  The convention is to report and interpret the Hazard Ratio (HR) rather than the log HR.  According to the Cox PH, at any given age, women are 64% less likely to die than men, with a 95% confidence interval of 63% to 65%.  This difference is statistically significant at $\\alpha$ of .05 (p < .0001).  Our confidence interval is tiny because our sample is so big!\n",
        "\n",
        "Looking from the plot to the model, you may notice that the data tell a slightly different story.  The survival rate discrepancy seems to shrink a bit after age 80.  This suggests that either we should include some additional features in the model to try and account for this discrepancy, or we should use a different modeling technique that doesn't assume that the effects of features are consistent across all values.\n",
        "\n",
        "We can plot the predicted survival rates from the model:"
      ]
    },
    {
      "cell_type": "code",
      "metadata": {
        "id": "xS4tdeUTGite",
        "colab_type": "code",
        "outputId": "6d2703d2-855c-4e89-97bb-72b6f22dbb94",
        "colab": {
          "base_uri": "https://localhost:8080/",
          "height": 503
        }
      },
      "source": [
        "data3=data2[(data2['Longevity'].notnull()) & (data2['female'].notnull()) & (data2['dead'].notnull())]\n",
        "data3[\"predicted\"] = rslt.predict(pred_type='surv').predicted_values\n",
        "\n",
        "print(data3.head())\n",
        "\n",
        "sns.lmplot(x=\"Longevity\", y=\"predicted\", hue=\"female\", data=data3,fit_reg=False,lowess=True)\n",
        "plt.ylim(.85, 1)\n",
        "plt.show()\n"
      ],
      "execution_count": 7,
      "outputs": [
        {
          "output_type": "stream",
          "text": [
            "        Unnamed: 0  YEAR         NHISPID  ...  dead  female  predicted\n",
            "829402     3928174  1997  19970003080101  ...   0.0       1   0.994803\n",
            "829403     3928175  1997  19970003080102  ...   0.0       0   0.988401\n",
            "829404     3928178  1997  19970003090101  ...   1.0       0   0.992777\n",
            "829405     3928179  1997  19970003090102  ...   0.0       1   0.956459\n",
            "829407     3928182  1997  19970003100101  ...   0.0       0   0.978739\n",
            "\n",
            "[5 rows x 14 columns]\n"
          ],
          "name": "stdout"
        },
        {
          "output_type": "display_data",
          "data": {
            "image/png": "[encoded data removed]",
            "text/plain": [
              "<Figure size 402.5x360 with 1 Axes>"
            ]
          },
          "metadata": {
            "tags": []
          }
        }
      ]
    },
    {
      "cell_type": "markdown",
      "metadata": {
        "id": "46S6UNSkGiti",
        "colab_type": "text"
      },
      "source": [
        "Going back to the survival rates from the raw data, it does appear this model is missing some elements, including the shrinkage in the gender difference after 80, but also the leveling-off of the survival rate once people get to 90 years or older.  Again, adding more parameters may help.\n",
        "\n",
        "# Drill\n",
        "\n",
        "They say that people who get married live longer than people who don't.  Test that assertion by using marital status as an additional feature in your model.  You'll need to create a feature that differentiates the never married from everyone else- check [the codebook](https://nhis.ipums.org/nhis-action/variables/MARSTAT#codes_section) to get started.  Does marriage make a difference?  Calculate the survival plot and the hazard ratio for being married at any point a lifetime.\n",
        "\n"
      ]
    },
    {
      "cell_type": "code",
      "metadata": {
        "id": "SaiYc67pplRs",
        "colab_type": "code",
        "colab": {
          "base_uri": "https://localhost:8080/",
          "height": 335
        },
        "outputId": "650b814b-ade6-43d0-f698-cae9720b4dab"
      },
      "source": [
        "plt.hist(data2['MARSTAT'])\n"
      ],
      "execution_count": 14,
      "outputs": [
        {
          "output_type": "execute_result",
          "data": {
            "text/plain": [
              "(array([437319.,  49623.,  74561.,  19796., 170198.,      0.,      0.,\n",
              "             0.,      0.,   2722.]),\n",
              " array([10. , 18.9, 27.8, 36.7, 45.6, 54.5, 63.4, 72.3, 81.2, 90.1, 99. ]),\n",
              " <a list of 10 Patch objects>)"
            ]
          },
          "metadata": {
            "tags": []
          },
          "execution_count": 14
        },
        {
          "output_type": "display_data",
          "data": {
            "image/png": "[encoded data removed]",
            "text/plain": [
              "<Figure size 432x288 with 1 Axes>"
            ]
          },
          "metadata": {
            "tags": []
          }
        }
      ]
    },
    {
      "cell_type": "code",
      "metadata": {
        "id": "9pCwXzOMqh0V",
        "colab_type": "code",
        "colab": {
          "base_uri": "https://localhost:8080/",
          "height": 47
        },
        "outputId": "ccf9cca0-407e-47d7-ae24-cbeff39d5a6d"
      },
      "source": [
        "data2.loc[data2['MARSTAT']==99]"
      ],
      "execution_count": 20,
      "outputs": [
        {
          "output_type": "execute_result",
          "data": {
            "text/html": [
              "<div>\n",
              "<style scoped>\n",
              "    .dataframe tbody tr th:only-of-type {\n",
              "        vertical-align: middle;\n",
              "    }\n",
              "\n",
              "    .dataframe tbody tr th {\n",
              "        vertical-align: top;\n",
              "    }\n",
              "\n",
              "    .dataframe thead th {\n",
              "        text-align: right;\n",
              "    }\n",
              "</style>\n",
              "<table border=\"1\" class=\"dataframe\">\n",
              "  <thead>\n",
              "    <tr style=\"text-align: right;\">\n",
              "      <th></th>\n",
              "      <th>Unnamed: 0</th>\n",
              "      <th>YEAR</th>\n",
              "      <th>NHISPID</th>\n",
              "      <th>AGE</th>\n",
              "      <th>SEX</th>\n",
              "      <th>SEXORIEN</th>\n",
              "      <th>MARSTAT</th>\n",
              "      <th>BIRTHYR</th>\n",
              "      <th>MORTSTAT</th>\n",
              "      <th>MORTDODY</th>\n",
              "      <th>Longevity</th>\n",
              "      <th>dead</th>\n",
              "      <th>female</th>\n",
              "    </tr>\n",
              "  </thead>\n",
              "  <tbody>\n",
              "  </tbody>\n",
              "</table>\n",
              "</div>"
            ],
            "text/plain": [
              "Empty DataFrame\n",
              "Columns: [Unnamed: 0, YEAR, NHISPID, AGE, SEX, SEXORIEN, MARSTAT, BIRTHYR, MORTSTAT, MORTDODY, Longevity, dead, female]\n",
              "Index: []"
            ]
          },
          "metadata": {
            "tags": []
          },
          "execution_count": 20
        }
      ]
    },
    {
      "cell_type": "code",
      "metadata": {
        "id": "6Ma8q-J0Gitj",
        "colab_type": "code",
        "colab": {}
      },
      "source": [
        "# data2=data2[data2['MARSTAT']!=99]\n",
        "# never_married = data2[data2['MARSTAT']==50]\n",
        "# married = data2[data2['MARSTAT']!=50]\n",
        "\n",
        "# features = pd.get_dummies(data2['MARSTAT'])\n",
        "# features['Married'] = np.where((data2['MARSTAT']!=50),1,0)\n",
        "\n",
        "# data2['mstatus'] = features['Married']\n"
      ],
      "execution_count": 0,
      "outputs": []
    },
    {
      "cell_type": "code",
      "metadata": {
        "id": "EuX-Z5eov817",
        "colab_type": "code",
        "colab": {
          "base_uri": "https://localhost:8080/",
          "height": 591
        },
        "outputId": "dfa7b076-96bf-439b-bfee-d750705b066f"
      },
      "source": [
        "data2[\"married\"] = (data2[\"MARSTAT\"] != 50).astype(int)\n",
        "data2[\"unmarried\"] = (data2[\"MARSTAT\"] == 50).astype(int)\n",
        "\n",
        "print(data2.head())\n",
        "print(data2.shape)\n",
        "\n",
        "g = sns.FacetGrid(data2, row=\"married\", col=\"dead\",margin_titles=True)\n",
        "g.map(plt.hist, \"Longevity\", color=\"steelblue\", lw=0)\n",
        "plt.show()"
      ],
      "execution_count": 31,
      "outputs": [
        {
          "output_type": "stream",
          "text": [
            "        Unnamed: 0  YEAR         NHISPID  ...  mstatus  married  unmarried\n",
            "829402     3928174  1997  19970003080101  ...        1        1          0\n",
            "829403     3928175  1997  19970003080102  ...        1        1          0\n",
            "829404     3928178  1997  19970003090101  ...        1        1          0\n",
            "829405     3928179  1997  19970003090102  ...        1        1          0\n",
            "829407     3928182  1997  19970003100101  ...        1        1          0\n",
            "\n",
            "[5 rows x 16 columns]\n",
            "(751497, 16)\n"
          ],
          "name": "stdout"
        },
        {
          "output_type": "display_data",
          "data": {
            "image/png": "[encoded data removed]",
            "text/plain": [
              "<Figure size 432x432 with 4 Axes>"
            ]
          },
          "metadata": {
            "tags": []
          }
        }
      ]
    },
    {
      "cell_type": "code",
      "metadata": {
        "id": "CA0GbmA7vhW9",
        "colab_type": "code",
        "colab": {
          "base_uri": "https://localhost:8080/",
          "height": 312
        },
        "outputId": "457bbe62-e77b-4e86-c441-901248168ff7"
      },
      "source": [
        "groups = data2.groupby(\"married\")\n",
        "ax = plt.axes()\n",
        "mstat = [\"unmarried\",\"married\"]\n",
        "# Fitting a survival function for each group\n",
        "for group in groups:\n",
        "    sf = sm.SurvfuncRight(group[1][\"Longevity\"], group[1][\"dead\"])\n",
        "    sf.plot(ax)\n",
        "li = ax.get_lines()\n",
        "plt.figlegend((li[0], li[2]), mstat, \"center right\")\n",
        "ax.set_title('Married people have longer longevity than Unmarried')\n",
        "ax.set_ylabel(\"Proportion alive\")\n",
        "ax.set_xlabel(\"Age\")\n",
        "ax.set_autoscaley_on(False)\n",
        "ax.set_ylim([.85,1])\n",
        "\n"
      ],
      "execution_count": 36,
      "outputs": [
        {
          "output_type": "execute_result",
          "data": {
            "text/plain": [
              "(0.85, 1)"
            ]
          },
          "metadata": {
            "tags": []
          },
          "execution_count": 36
        },
        {
          "output_type": "display_data",
          "data": {
            "image/png": "[encoded data removed]",
            "text/plain": [
              "<Figure size 432x288 with 1 Axes>"
            ]
          },
          "metadata": {
            "tags": []
          }
        }
      ]
    },
    {
      "cell_type": "code",
      "metadata": {
        "id": "WdG7FZ45w7jW",
        "colab_type": "code",
        "colab": {
          "base_uri": "https://localhost:8080/",
          "height": 200
        },
        "outputId": "bb5cd350-85c4-40db-cfc8-6d278ba968ad"
      },
      "source": [
        "zmod = smf.phreg(\"Longevity ~  married\", # The model\n",
        "                data2, # The data\n",
        "                status=data2['dead'].values # Whether values are right-censored\n",
        "                ) \n",
        "rslt = mod.fit()\n",
        "print(rslt.summary())"
      ],
      "execution_count": 35,
      "outputs": [
        {
          "output_type": "stream",
          "text": [
            "                        Results: PHReg\n",
            "==============================================================\n",
            "Model:                   PH Reg        Sample size:     751495\n",
            "Dependent variable:      Longevity     Num. events:     67184 \n",
            "Ties:                    Breslow                              \n",
            "--------------------------------------------------------------\n",
            "         log HR log HR SE   HR      t     P>|t|  [0.025 0.975]\n",
            "--------------------------------------------------------------\n",
            "married -0.6716    0.0140 0.5109 -47.9976 0.0000 0.4971 0.5251\n",
            "==============================================================\n",
            "Confidence intervals are for the hazard ratios\n"
          ],
          "name": "stdout"
        }
      ]
    },
    {
      "cell_type": "markdown",
      "metadata": {
        "id": "LvpjACj7xpwF",
        "colab_type": "text"
      },
      "source": [
        "##People who have been married at any given point in their lives are 51% less likely to die at a given point compared to people who have never been married with a 95% confidence interval ranging between 49.7 and 52.5%. With a p value of less than .05, this is statistically significant. "
      ]
    },
    {
      "cell_type": "code",
      "metadata": {
        "id": "eZ4JMHLQw-4t",
        "colab_type": "code",
        "colab": {}
      },
      "source": [
        ""
      ],
      "execution_count": 0,
      "outputs": []
    }
  ]
}